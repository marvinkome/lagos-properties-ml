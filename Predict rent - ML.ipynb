{
 "cells": [
  {
   "cell_type": "code",
   "execution_count": 1,
   "metadata": {},
   "outputs": [],
   "source": [
    "import pandas as pd\n",
    "import seaborn as sns\n",
    "import matplotlib.pyplot as plt\n",
    "import numpy as np\n",
    "import re\n",
    "\n",
    "%matplotlib inline\n",
    "pd.set_option('display.max_rows', None)\n",
    "pd.set_option('display.max_columns', None)\n",
    "pd.set_option('display.width', None)\n",
    "pd.set_option('display.max_colwidth', None)"
   ]
  },
  {
   "cell_type": "code",
   "execution_count": 2,
   "metadata": {},
   "outputs": [],
   "source": [
    "yaba_properties = pd.read_json(\"./data/yaba-properties.json\")\n",
    "surulere_properties = pd.read_json(\"./data/surulere-properties.json\")\n",
    "maryland_properties = pd.read_json(\"./data/maryland-properties.json\")\n",
    "gbagada_properties = pd.read_json(\"./data/gbagada-properties.json\")\n",
    "\n",
    "data = pd.concat([yaba_properties, surulere_properties, maryland_properties, gbagada_properties])"
   ]
  },
  {
   "cell_type": "markdown",
   "metadata": {},
   "source": [
    "## Data cleaning"
   ]
  },
  {
   "cell_type": "code",
   "execution_count": 3,
   "metadata": {},
   "outputs": [],
   "source": [
    "# Get number of rooms\n",
    "def roomCount(type):\n",
    "    if (len(re.findall('\\d+', type)) > 0):\n",
    "        return re.findall('\\d+', type)[0]\n",
    "    elif (re.search(r'(self|flat)', type, flags=re.IGNORECASE)):\n",
    "        return \"1\"\n",
    "\n",
    "data['number of rooms'] = data.type.map(roomCount).astype('int64')"
   ]
  },
  {
   "cell_type": "code",
   "execution_count": 4,
   "metadata": {},
   "outputs": [],
   "source": [
    "# Get city and town\n",
    "def cityAndTown(location):\n",
    "    arr = location.split(', ')\n",
    "    arr.pop()\n",
    "    arr.reverse()\n",
    "    \n",
    "    city = arr[0].strip()\n",
    "    town = arr[1].strip() if len(arr) > 1 else np.nan\n",
    "    \n",
    "    return city, town\n",
    "\n",
    "data['city'] = data.location.map(lambda loc: cityAndTown(loc)[0])\n",
    "data['town'] = data.location.map(lambda loc: cityAndTown(loc)[1])"
   ]
  },
  {
   "cell_type": "code",
   "execution_count": 5,
   "metadata": {},
   "outputs": [],
   "source": [
    "# convert rent to int\n",
    "data['rent'] = data['rent'].map(lambda r: r.replace(',','')).astype('int64')"
   ]
  },
  {
   "cell_type": "code",
   "execution_count": 6,
   "metadata": {},
   "outputs": [],
   "source": [
    "data['id'] = range(0, len(data))\n",
    "data = data.set_index(\"id\")"
   ]
  },
  {
   "cell_type": "code",
   "execution_count": 7,
   "metadata": {},
   "outputs": [],
   "source": [
    "from datetime import datetime, timedelta\n",
    "\n",
    "# extract month added\n",
    "def extractDate(item):\n",
    "    date = item.replace('Added ', '').replace('on ', '').lower()\n",
    "    if date == \"yesterday\":\n",
    "        return (datetime.now() - timedelta(1)).strftime('%Y-%m-%d')\n",
    "    else:\n",
    "        return date\n",
    "\n",
    "data['addedOn'] = data.addedOn.map(lambda x: pd.to_datetime(extractDate(x)))\n",
    "data['monthAdded'] = data.addedOn.map(lambda x: x.month_name())"
   ]
  },
  {
   "cell_type": "code",
   "execution_count": 8,
   "metadata": {},
   "outputs": [],
   "source": [
    "# extract serviced or furnished\n",
    "data['serviced'] = data.shortDesc.map(lambda desc: int(bool(re.search(r'serviced', desc, flags=re.IGNORECASE))))\n",
    "data['furnished'] = data.shortDesc.map(lambda desc: int(bool(re.search(r'furnished', desc, flags=re.IGNORECASE))))"
   ]
  },
  {
   "cell_type": "code",
   "execution_count": 9,
   "metadata": {},
   "outputs": [],
   "source": [
    "# extract number of bathrooms and number of toilets\n",
    "data.metaProps.head()\n",
    "\n",
    "def extractKey(prop, key):\n",
    "    if prop.get(key):\n",
    "        return prop.get(key)\n",
    "    elif prop.get(key + \"s\"):\n",
    "        return prop.get(key + \"s\")\n",
    "    else:\n",
    "        return 0\n",
    "\n",
    "data[\"number of bathrooms\"] = data.metaProps.map(lambda prop: extractKey(prop, \"Bathroom\"))\n",
    "data[\"number of toilets\"] = data.metaProps.map(lambda prop: extractKey(prop, \"Toilet\"))"
   ]
  },
  {
   "cell_type": "code",
   "execution_count": 10,
   "metadata": {},
   "outputs": [],
   "source": [
    "# extract house agent\n",
    "def extractAgent(x): \n",
    "    agent = x.replace('\\n', '').replace('\\xa0', '').strip(' ')\n",
    "    if len(agent) == 0:\n",
    "        return np.nan\n",
    "    else:\n",
    "        return agent\n",
    "\n",
    "data[\"marketedBy\"] = data.marketedBy.map(extractAgent)"
   ]
  },
  {
   "cell_type": "code",
   "execution_count": 11,
   "metadata": {},
   "outputs": [],
   "source": [
    "# remove all investment based houses\n",
    "data.at[412, 'rent'] = 325000\n",
    "\n",
    "data[data['shortDesc'] == \"Sunplanet Smart Landlord Investment\"]\n",
    "data.drop(index=192, inplace=True)\n",
    "\n",
    "data[data['link'] == \"https://nigeriapropertycentre.com/for-rent/flats-apartments/mini-flats/lagos/yaba/onike/549971-newly-built-2bedroom-at-onike\"]\n",
    "data.drop(index=322, inplace=True)\n",
    "\n",
    "data[data['link'] == \"https://nigeriapropertycentre.com/for-rent/flats-apartments/lagos/surulere/779480-luxury-and-executive-3-bedrooms-with-3-tiolets-with-wardrobes\"]\n",
    "data.at[416, 'rent'] = 1000000\n",
    "\n",
    "data[data['link'] == \"https://nigeriapropertycentre.com/for-rent/flats-apartments/self-contained/lagos/gbagada/782003-a-executive-brand-newly-built-ensuite-2-bedrooms-flat\"]\n",
    "data.at[713, 'number of rooms'] = \"2\"\n",
    "\n",
    "data[data[\"link\"] == \"https://nigeriapropertycentre.com/for-rent/flats-apartments/lagos/gbagada/gbagada-phase-1/706117-newly-built-2-bedroom\"]\n",
    "data.at[781, 'number of rooms'] = \"2\"\n",
    "\n",
    "data[data[\"link\"] == \"https://nigeriapropertycentre.com/for-rent/flats-apartments/self-contained/lagos/yaba/onike/798173-newly-built-roomself-for-15-years-lease\"]\n",
    "data.drop(index=9, inplace=True)\n",
    "\n",
    "data[data['rent'] == 40000000]\n",
    "data.drop(index=814, inplace=True)"
   ]
  },
  {
   "cell_type": "code",
   "execution_count": 12,
   "metadata": {},
   "outputs": [
    {
     "name": "stdout",
     "output_type": "stream",
     "text": [
      "<class 'pandas.core.frame.DataFrame'>\n",
      "Int64Index: 811 entries, 0 to 813\n",
      "Data columns (total 16 columns):\n",
      " #   Column               Non-Null Count  Dtype         \n",
      "---  ------               --------------  -----         \n",
      " 0   type                 811 non-null    object        \n",
      " 1   shortDesc            811 non-null    object        \n",
      " 2   link                 811 non-null    object        \n",
      " 3   rent                 811 non-null    int64         \n",
      " 4   addedOn              811 non-null    datetime64[ns]\n",
      " 5   location             811 non-null    object        \n",
      " 6   marketedBy           767 non-null    object        \n",
      " 7   metaProps            811 non-null    object        \n",
      " 8   number of rooms      811 non-null    int64         \n",
      " 9   city                 811 non-null    object        \n",
      " 10  town                 676 non-null    object        \n",
      " 11  monthAdded           811 non-null    object        \n",
      " 12  serviced             811 non-null    int64         \n",
      " 13  furnished            811 non-null    int64         \n",
      " 14  number of bathrooms  811 non-null    int64         \n",
      " 15  number of toilets    811 non-null    int64         \n",
      "dtypes: datetime64[ns](1), int64(6), object(9)\n",
      "memory usage: 107.7+ KB\n"
     ]
    }
   ],
   "source": [
    "data['number of bathrooms'] = pd.to_numeric(data['number of bathrooms'])\n",
    "data['number of toilets'] = pd.to_numeric(data['number of toilets'])\n",
    "\n",
    "data.info()"
   ]
  },
  {
   "cell_type": "markdown",
   "metadata": {},
   "source": [
    "## EDA"
   ]
  },
  {
   "cell_type": "code",
   "execution_count": 13,
   "metadata": {},
   "outputs": [
    {
     "data": {
      "text/html": [
       "<div>\n",
       "<style scoped>\n",
       "    .dataframe tbody tr th:only-of-type {\n",
       "        vertical-align: middle;\n",
       "    }\n",
       "\n",
       "    .dataframe tbody tr th {\n",
       "        vertical-align: top;\n",
       "    }\n",
       "\n",
       "    .dataframe thead th {\n",
       "        text-align: right;\n",
       "    }\n",
       "</style>\n",
       "<table border=\"1\" class=\"dataframe\">\n",
       "  <thead>\n",
       "    <tr style=\"text-align: right;\">\n",
       "      <th></th>\n",
       "      <th></th>\n",
       "      <th>len</th>\n",
       "      <th>min</th>\n",
       "      <th>max</th>\n",
       "    </tr>\n",
       "    <tr>\n",
       "      <th>number of rooms</th>\n",
       "      <th>city</th>\n",
       "      <th></th>\n",
       "      <th></th>\n",
       "      <th></th>\n",
       "    </tr>\n",
       "  </thead>\n",
       "  <tbody>\n",
       "    <tr>\n",
       "      <th rowspan=\"4\" valign=\"top\">1</th>\n",
       "      <th>Gbagada</th>\n",
       "      <td>25</td>\n",
       "      <td>200000</td>\n",
       "      <td>700000</td>\n",
       "    </tr>\n",
       "    <tr>\n",
       "      <th>Maryland</th>\n",
       "      <td>13</td>\n",
       "      <td>84000</td>\n",
       "      <td>1000000</td>\n",
       "    </tr>\n",
       "    <tr>\n",
       "      <th>Surulere</th>\n",
       "      <td>96</td>\n",
       "      <td>150000</td>\n",
       "      <td>1000000</td>\n",
       "    </tr>\n",
       "    <tr>\n",
       "      <th>Yaba</th>\n",
       "      <td>156</td>\n",
       "      <td>120000</td>\n",
       "      <td>1600000</td>\n",
       "    </tr>\n",
       "    <tr>\n",
       "      <th rowspan=\"4\" valign=\"top\">2</th>\n",
       "      <th>Gbagada</th>\n",
       "      <td>50</td>\n",
       "      <td>700000</td>\n",
       "      <td>2500000</td>\n",
       "    </tr>\n",
       "    <tr>\n",
       "      <th>Maryland</th>\n",
       "      <td>22</td>\n",
       "      <td>600000</td>\n",
       "      <td>2500000</td>\n",
       "    </tr>\n",
       "    <tr>\n",
       "      <th>Surulere</th>\n",
       "      <td>65</td>\n",
       "      <td>500000</td>\n",
       "      <td>2200000</td>\n",
       "    </tr>\n",
       "    <tr>\n",
       "      <th>Yaba</th>\n",
       "      <td>85</td>\n",
       "      <td>400000</td>\n",
       "      <td>2000000</td>\n",
       "    </tr>\n",
       "    <tr>\n",
       "      <th rowspan=\"4\" valign=\"top\">3</th>\n",
       "      <th>Gbagada</th>\n",
       "      <td>80</td>\n",
       "      <td>800000</td>\n",
       "      <td>3000000</td>\n",
       "    </tr>\n",
       "    <tr>\n",
       "      <th>Maryland</th>\n",
       "      <td>26</td>\n",
       "      <td>800000</td>\n",
       "      <td>4000000</td>\n",
       "    </tr>\n",
       "    <tr>\n",
       "      <th>Surulere</th>\n",
       "      <td>77</td>\n",
       "      <td>600000</td>\n",
       "      <td>3000000</td>\n",
       "    </tr>\n",
       "    <tr>\n",
       "      <th>Yaba</th>\n",
       "      <td>95</td>\n",
       "      <td>500000</td>\n",
       "      <td>2700000</td>\n",
       "    </tr>\n",
       "    <tr>\n",
       "      <th rowspan=\"3\" valign=\"top\">4</th>\n",
       "      <th>Gbagada</th>\n",
       "      <td>8</td>\n",
       "      <td>1200000</td>\n",
       "      <td>3000000</td>\n",
       "    </tr>\n",
       "    <tr>\n",
       "      <th>Surulere</th>\n",
       "      <td>6</td>\n",
       "      <td>750000</td>\n",
       "      <td>3200000</td>\n",
       "    </tr>\n",
       "    <tr>\n",
       "      <th>Yaba</th>\n",
       "      <td>5</td>\n",
       "      <td>1300000</td>\n",
       "      <td>3000000</td>\n",
       "    </tr>\n",
       "    <tr>\n",
       "      <th rowspan=\"2\" valign=\"top\">5</th>\n",
       "      <th>Maryland</th>\n",
       "      <td>1</td>\n",
       "      <td>3000000</td>\n",
       "      <td>3000000</td>\n",
       "    </tr>\n",
       "    <tr>\n",
       "      <th>Yaba</th>\n",
       "      <td>1</td>\n",
       "      <td>3500000</td>\n",
       "      <td>3500000</td>\n",
       "    </tr>\n",
       "  </tbody>\n",
       "</table>\n",
       "</div>"
      ],
      "text/plain": [
       "                          len      min      max\n",
       "number of rooms city                           \n",
       "1               Gbagada    25   200000   700000\n",
       "                Maryland   13    84000  1000000\n",
       "                Surulere   96   150000  1000000\n",
       "                Yaba      156   120000  1600000\n",
       "2               Gbagada    50   700000  2500000\n",
       "                Maryland   22   600000  2500000\n",
       "                Surulere   65   500000  2200000\n",
       "                Yaba       85   400000  2000000\n",
       "3               Gbagada    80   800000  3000000\n",
       "                Maryland   26   800000  4000000\n",
       "                Surulere   77   600000  3000000\n",
       "                Yaba       95   500000  2700000\n",
       "4               Gbagada     8  1200000  3000000\n",
       "                Surulere    6   750000  3200000\n",
       "                Yaba        5  1300000  3000000\n",
       "5               Maryland    1  3000000  3000000\n",
       "                Yaba        1  3500000  3500000"
      ]
     },
     "execution_count": 13,
     "metadata": {},
     "output_type": "execute_result"
    }
   ],
   "source": [
    "data.groupby(['number of rooms', 'city']).rent.agg([len, min, max])"
   ]
  },
  {
   "cell_type": "markdown",
   "metadata": {},
   "source": [
    "## Apply advance data cleaning"
   ]
  },
  {
   "cell_type": "code",
   "execution_count": 14,
   "metadata": {},
   "outputs": [],
   "source": [
    "df_o = data[['rent', 'number of rooms', 'city', 'serviced', 'furnished', \n",
    "           'number of bathrooms', 'number of toilets', 'monthAdded']]"
   ]
  },
  {
   "cell_type": "code",
   "execution_count": 15,
   "metadata": {},
   "outputs": [],
   "source": [
    "df = pd.get_dummies(df_o, columns=['city'], prefix='city')\n",
    "df = pd.get_dummies(df, columns=['monthAdded'], prefix='monthAdded')"
   ]
  },
  {
   "cell_type": "code",
   "execution_count": 16,
   "metadata": {},
   "outputs": [
    {
     "data": {
      "text/html": [
       "<div>\n",
       "<style scoped>\n",
       "    .dataframe tbody tr th:only-of-type {\n",
       "        vertical-align: middle;\n",
       "    }\n",
       "\n",
       "    .dataframe tbody tr th {\n",
       "        vertical-align: top;\n",
       "    }\n",
       "\n",
       "    .dataframe thead th {\n",
       "        text-align: right;\n",
       "    }\n",
       "</style>\n",
       "<table border=\"1\" class=\"dataframe\">\n",
       "  <thead>\n",
       "    <tr style=\"text-align: right;\">\n",
       "      <th></th>\n",
       "      <th>rent</th>\n",
       "      <th>number of rooms</th>\n",
       "      <th>serviced</th>\n",
       "      <th>furnished</th>\n",
       "      <th>number of bathrooms</th>\n",
       "      <th>number of toilets</th>\n",
       "      <th>city_Gbagada</th>\n",
       "      <th>city_Maryland</th>\n",
       "      <th>city_Surulere</th>\n",
       "      <th>city_Yaba</th>\n",
       "      <th>monthAdded_April</th>\n",
       "      <th>monthAdded_August</th>\n",
       "      <th>monthAdded_December</th>\n",
       "      <th>monthAdded_February</th>\n",
       "      <th>monthAdded_January</th>\n",
       "      <th>monthAdded_July</th>\n",
       "      <th>monthAdded_June</th>\n",
       "      <th>monthAdded_March</th>\n",
       "      <th>monthAdded_May</th>\n",
       "      <th>monthAdded_November</th>\n",
       "      <th>monthAdded_October</th>\n",
       "      <th>monthAdded_September</th>\n",
       "    </tr>\n",
       "    <tr>\n",
       "      <th>id</th>\n",
       "      <th></th>\n",
       "      <th></th>\n",
       "      <th></th>\n",
       "      <th></th>\n",
       "      <th></th>\n",
       "      <th></th>\n",
       "      <th></th>\n",
       "      <th></th>\n",
       "      <th></th>\n",
       "      <th></th>\n",
       "      <th></th>\n",
       "      <th></th>\n",
       "      <th></th>\n",
       "      <th></th>\n",
       "      <th></th>\n",
       "      <th></th>\n",
       "      <th></th>\n",
       "      <th></th>\n",
       "      <th></th>\n",
       "      <th></th>\n",
       "      <th></th>\n",
       "      <th></th>\n",
       "    </tr>\n",
       "  </thead>\n",
       "  <tbody>\n",
       "    <tr>\n",
       "      <th>0</th>\n",
       "      <td>400000</td>\n",
       "      <td>1</td>\n",
       "      <td>0</td>\n",
       "      <td>1</td>\n",
       "      <td>1</td>\n",
       "      <td>1</td>\n",
       "      <td>0</td>\n",
       "      <td>0</td>\n",
       "      <td>0</td>\n",
       "      <td>1</td>\n",
       "      <td>0</td>\n",
       "      <td>0</td>\n",
       "      <td>0</td>\n",
       "      <td>0</td>\n",
       "      <td>0</td>\n",
       "      <td>1</td>\n",
       "      <td>0</td>\n",
       "      <td>0</td>\n",
       "      <td>0</td>\n",
       "      <td>0</td>\n",
       "      <td>0</td>\n",
       "      <td>0</td>\n",
       "    </tr>\n",
       "    <tr>\n",
       "      <th>1</th>\n",
       "      <td>400000</td>\n",
       "      <td>1</td>\n",
       "      <td>0</td>\n",
       "      <td>0</td>\n",
       "      <td>1</td>\n",
       "      <td>1</td>\n",
       "      <td>0</td>\n",
       "      <td>0</td>\n",
       "      <td>0</td>\n",
       "      <td>1</td>\n",
       "      <td>0</td>\n",
       "      <td>0</td>\n",
       "      <td>0</td>\n",
       "      <td>0</td>\n",
       "      <td>0</td>\n",
       "      <td>0</td>\n",
       "      <td>0</td>\n",
       "      <td>0</td>\n",
       "      <td>0</td>\n",
       "      <td>1</td>\n",
       "      <td>0</td>\n",
       "      <td>0</td>\n",
       "    </tr>\n",
       "    <tr>\n",
       "      <th>2</th>\n",
       "      <td>800000</td>\n",
       "      <td>1</td>\n",
       "      <td>0</td>\n",
       "      <td>0</td>\n",
       "      <td>0</td>\n",
       "      <td>0</td>\n",
       "      <td>0</td>\n",
       "      <td>0</td>\n",
       "      <td>0</td>\n",
       "      <td>1</td>\n",
       "      <td>0</td>\n",
       "      <td>0</td>\n",
       "      <td>1</td>\n",
       "      <td>0</td>\n",
       "      <td>0</td>\n",
       "      <td>0</td>\n",
       "      <td>0</td>\n",
       "      <td>0</td>\n",
       "      <td>0</td>\n",
       "      <td>0</td>\n",
       "      <td>0</td>\n",
       "      <td>0</td>\n",
       "    </tr>\n",
       "    <tr>\n",
       "      <th>3</th>\n",
       "      <td>500000</td>\n",
       "      <td>1</td>\n",
       "      <td>0</td>\n",
       "      <td>0</td>\n",
       "      <td>1</td>\n",
       "      <td>1</td>\n",
       "      <td>0</td>\n",
       "      <td>0</td>\n",
       "      <td>0</td>\n",
       "      <td>1</td>\n",
       "      <td>0</td>\n",
       "      <td>0</td>\n",
       "      <td>1</td>\n",
       "      <td>0</td>\n",
       "      <td>0</td>\n",
       "      <td>0</td>\n",
       "      <td>0</td>\n",
       "      <td>0</td>\n",
       "      <td>0</td>\n",
       "      <td>0</td>\n",
       "      <td>0</td>\n",
       "      <td>0</td>\n",
       "    </tr>\n",
       "    <tr>\n",
       "      <th>4</th>\n",
       "      <td>1300000</td>\n",
       "      <td>2</td>\n",
       "      <td>1</td>\n",
       "      <td>0</td>\n",
       "      <td>2</td>\n",
       "      <td>3</td>\n",
       "      <td>0</td>\n",
       "      <td>0</td>\n",
       "      <td>0</td>\n",
       "      <td>1</td>\n",
       "      <td>0</td>\n",
       "      <td>1</td>\n",
       "      <td>0</td>\n",
       "      <td>0</td>\n",
       "      <td>0</td>\n",
       "      <td>0</td>\n",
       "      <td>0</td>\n",
       "      <td>0</td>\n",
       "      <td>0</td>\n",
       "      <td>0</td>\n",
       "      <td>0</td>\n",
       "      <td>0</td>\n",
       "    </tr>\n",
       "  </tbody>\n",
       "</table>\n",
       "</div>"
      ],
      "text/plain": [
       "       rent  number of rooms  serviced  furnished  number of bathrooms  \\\n",
       "id                                                                       \n",
       "0    400000                1         0          1                    1   \n",
       "1    400000                1         0          0                    1   \n",
       "2    800000                1         0          0                    0   \n",
       "3    500000                1         0          0                    1   \n",
       "4   1300000                2         1          0                    2   \n",
       "\n",
       "    number of toilets  city_Gbagada  city_Maryland  city_Surulere  city_Yaba  \\\n",
       "id                                                                             \n",
       "0                   1             0              0              0          1   \n",
       "1                   1             0              0              0          1   \n",
       "2                   0             0              0              0          1   \n",
       "3                   1             0              0              0          1   \n",
       "4                   3             0              0              0          1   \n",
       "\n",
       "    monthAdded_April  monthAdded_August  monthAdded_December  \\\n",
       "id                                                             \n",
       "0                  0                  0                    0   \n",
       "1                  0                  0                    0   \n",
       "2                  0                  0                    1   \n",
       "3                  0                  0                    1   \n",
       "4                  0                  1                    0   \n",
       "\n",
       "    monthAdded_February  monthAdded_January  monthAdded_July  monthAdded_June  \\\n",
       "id                                                                              \n",
       "0                     0                   0                1                0   \n",
       "1                     0                   0                0                0   \n",
       "2                     0                   0                0                0   \n",
       "3                     0                   0                0                0   \n",
       "4                     0                   0                0                0   \n",
       "\n",
       "    monthAdded_March  monthAdded_May  monthAdded_November  monthAdded_October  \\\n",
       "id                                                                              \n",
       "0                  0               0                    0                   0   \n",
       "1                  0               0                    1                   0   \n",
       "2                  0               0                    0                   0   \n",
       "3                  0               0                    0                   0   \n",
       "4                  0               0                    0                   0   \n",
       "\n",
       "    monthAdded_September  \n",
       "id                        \n",
       "0                      0  \n",
       "1                      0  \n",
       "2                      0  \n",
       "3                      0  \n",
       "4                      0  "
      ]
     },
     "execution_count": 16,
     "metadata": {},
     "output_type": "execute_result"
    }
   ],
   "source": [
    "df.head()"
   ]
  },
  {
   "cell_type": "markdown",
   "metadata": {},
   "source": [
    "## Apply model"
   ]
  },
  {
   "cell_type": "code",
   "execution_count": 17,
   "metadata": {},
   "outputs": [
    {
     "data": {
      "text/html": [
       "<div>\n",
       "<style scoped>\n",
       "    .dataframe tbody tr th:only-of-type {\n",
       "        vertical-align: middle;\n",
       "    }\n",
       "\n",
       "    .dataframe tbody tr th {\n",
       "        vertical-align: top;\n",
       "    }\n",
       "\n",
       "    .dataframe thead th {\n",
       "        text-align: right;\n",
       "    }\n",
       "</style>\n",
       "<table border=\"1\" class=\"dataframe\">\n",
       "  <thead>\n",
       "    <tr style=\"text-align: right;\">\n",
       "      <th></th>\n",
       "      <th>rent</th>\n",
       "      <th>number of rooms</th>\n",
       "      <th>serviced</th>\n",
       "      <th>furnished</th>\n",
       "      <th>number of bathrooms</th>\n",
       "      <th>number of toilets</th>\n",
       "      <th>city_Gbagada</th>\n",
       "      <th>city_Maryland</th>\n",
       "      <th>city_Surulere</th>\n",
       "      <th>city_Yaba</th>\n",
       "      <th>monthAdded_April</th>\n",
       "      <th>monthAdded_August</th>\n",
       "      <th>monthAdded_December</th>\n",
       "      <th>monthAdded_February</th>\n",
       "      <th>monthAdded_January</th>\n",
       "      <th>monthAdded_July</th>\n",
       "      <th>monthAdded_June</th>\n",
       "      <th>monthAdded_March</th>\n",
       "      <th>monthAdded_May</th>\n",
       "      <th>monthAdded_November</th>\n",
       "      <th>monthAdded_October</th>\n",
       "      <th>monthAdded_September</th>\n",
       "    </tr>\n",
       "  </thead>\n",
       "  <tbody>\n",
       "    <tr>\n",
       "      <th>count</th>\n",
       "      <td>8.110000e+02</td>\n",
       "      <td>811.000000</td>\n",
       "      <td>811.000000</td>\n",
       "      <td>811.000000</td>\n",
       "      <td>811.000000</td>\n",
       "      <td>811.000000</td>\n",
       "      <td>811.000000</td>\n",
       "      <td>811.000000</td>\n",
       "      <td>811.000000</td>\n",
       "      <td>811.000000</td>\n",
       "      <td>811.000000</td>\n",
       "      <td>811.000000</td>\n",
       "      <td>811.00000</td>\n",
       "      <td>811.000000</td>\n",
       "      <td>811.000000</td>\n",
       "      <td>811.000000</td>\n",
       "      <td>811.000000</td>\n",
       "      <td>811.000000</td>\n",
       "      <td>811.000000</td>\n",
       "      <td>811.000000</td>\n",
       "      <td>811.000000</td>\n",
       "      <td>811.000000</td>\n",
       "    </tr>\n",
       "    <tr>\n",
       "      <th>mean</th>\n",
       "      <td>1.088612e+06</td>\n",
       "      <td>2.039457</td>\n",
       "      <td>0.051788</td>\n",
       "      <td>0.018496</td>\n",
       "      <td>1.940814</td>\n",
       "      <td>2.302096</td>\n",
       "      <td>0.200986</td>\n",
       "      <td>0.076449</td>\n",
       "      <td>0.300863</td>\n",
       "      <td>0.421702</td>\n",
       "      <td>0.003699</td>\n",
       "      <td>0.087546</td>\n",
       "      <td>0.10111</td>\n",
       "      <td>0.008631</td>\n",
       "      <td>0.013564</td>\n",
       "      <td>0.064118</td>\n",
       "      <td>0.020962</td>\n",
       "      <td>0.019729</td>\n",
       "      <td>0.012330</td>\n",
       "      <td>0.401973</td>\n",
       "      <td>0.162762</td>\n",
       "      <td>0.103576</td>\n",
       "    </tr>\n",
       "    <tr>\n",
       "      <th>std</th>\n",
       "      <td>6.687547e+05</td>\n",
       "      <td>0.903175</td>\n",
       "      <td>0.221735</td>\n",
       "      <td>0.134818</td>\n",
       "      <td>1.027498</td>\n",
       "      <td>1.235777</td>\n",
       "      <td>0.400985</td>\n",
       "      <td>0.265879</td>\n",
       "      <td>0.458916</td>\n",
       "      <td>0.494136</td>\n",
       "      <td>0.060745</td>\n",
       "      <td>0.282808</td>\n",
       "      <td>0.30166</td>\n",
       "      <td>0.092560</td>\n",
       "      <td>0.115741</td>\n",
       "      <td>0.245115</td>\n",
       "      <td>0.143345</td>\n",
       "      <td>0.139152</td>\n",
       "      <td>0.110424</td>\n",
       "      <td>0.490599</td>\n",
       "      <td>0.369376</td>\n",
       "      <td>0.304898</td>\n",
       "    </tr>\n",
       "    <tr>\n",
       "      <th>min</th>\n",
       "      <td>8.400000e+04</td>\n",
       "      <td>1.000000</td>\n",
       "      <td>0.000000</td>\n",
       "      <td>0.000000</td>\n",
       "      <td>0.000000</td>\n",
       "      <td>0.000000</td>\n",
       "      <td>0.000000</td>\n",
       "      <td>0.000000</td>\n",
       "      <td>0.000000</td>\n",
       "      <td>0.000000</td>\n",
       "      <td>0.000000</td>\n",
       "      <td>0.000000</td>\n",
       "      <td>0.00000</td>\n",
       "      <td>0.000000</td>\n",
       "      <td>0.000000</td>\n",
       "      <td>0.000000</td>\n",
       "      <td>0.000000</td>\n",
       "      <td>0.000000</td>\n",
       "      <td>0.000000</td>\n",
       "      <td>0.000000</td>\n",
       "      <td>0.000000</td>\n",
       "      <td>0.000000</td>\n",
       "    </tr>\n",
       "    <tr>\n",
       "      <th>25%</th>\n",
       "      <td>5.500000e+05</td>\n",
       "      <td>1.000000</td>\n",
       "      <td>0.000000</td>\n",
       "      <td>0.000000</td>\n",
       "      <td>1.000000</td>\n",
       "      <td>1.000000</td>\n",
       "      <td>0.000000</td>\n",
       "      <td>0.000000</td>\n",
       "      <td>0.000000</td>\n",
       "      <td>0.000000</td>\n",
       "      <td>0.000000</td>\n",
       "      <td>0.000000</td>\n",
       "      <td>0.00000</td>\n",
       "      <td>0.000000</td>\n",
       "      <td>0.000000</td>\n",
       "      <td>0.000000</td>\n",
       "      <td>0.000000</td>\n",
       "      <td>0.000000</td>\n",
       "      <td>0.000000</td>\n",
       "      <td>0.000000</td>\n",
       "      <td>0.000000</td>\n",
       "      <td>0.000000</td>\n",
       "    </tr>\n",
       "    <tr>\n",
       "      <th>50%</th>\n",
       "      <td>1.000000e+06</td>\n",
       "      <td>2.000000</td>\n",
       "      <td>0.000000</td>\n",
       "      <td>0.000000</td>\n",
       "      <td>2.000000</td>\n",
       "      <td>2.000000</td>\n",
       "      <td>0.000000</td>\n",
       "      <td>0.000000</td>\n",
       "      <td>0.000000</td>\n",
       "      <td>0.000000</td>\n",
       "      <td>0.000000</td>\n",
       "      <td>0.000000</td>\n",
       "      <td>0.00000</td>\n",
       "      <td>0.000000</td>\n",
       "      <td>0.000000</td>\n",
       "      <td>0.000000</td>\n",
       "      <td>0.000000</td>\n",
       "      <td>0.000000</td>\n",
       "      <td>0.000000</td>\n",
       "      <td>0.000000</td>\n",
       "      <td>0.000000</td>\n",
       "      <td>0.000000</td>\n",
       "    </tr>\n",
       "    <tr>\n",
       "      <th>75%</th>\n",
       "      <td>1.500000e+06</td>\n",
       "      <td>3.000000</td>\n",
       "      <td>0.000000</td>\n",
       "      <td>0.000000</td>\n",
       "      <td>3.000000</td>\n",
       "      <td>3.000000</td>\n",
       "      <td>0.000000</td>\n",
       "      <td>0.000000</td>\n",
       "      <td>1.000000</td>\n",
       "      <td>1.000000</td>\n",
       "      <td>0.000000</td>\n",
       "      <td>0.000000</td>\n",
       "      <td>0.00000</td>\n",
       "      <td>0.000000</td>\n",
       "      <td>0.000000</td>\n",
       "      <td>0.000000</td>\n",
       "      <td>0.000000</td>\n",
       "      <td>0.000000</td>\n",
       "      <td>0.000000</td>\n",
       "      <td>1.000000</td>\n",
       "      <td>0.000000</td>\n",
       "      <td>0.000000</td>\n",
       "    </tr>\n",
       "    <tr>\n",
       "      <th>max</th>\n",
       "      <td>4.000000e+06</td>\n",
       "      <td>5.000000</td>\n",
       "      <td>1.000000</td>\n",
       "      <td>1.000000</td>\n",
       "      <td>5.000000</td>\n",
       "      <td>6.000000</td>\n",
       "      <td>1.000000</td>\n",
       "      <td>1.000000</td>\n",
       "      <td>1.000000</td>\n",
       "      <td>1.000000</td>\n",
       "      <td>1.000000</td>\n",
       "      <td>1.000000</td>\n",
       "      <td>1.00000</td>\n",
       "      <td>1.000000</td>\n",
       "      <td>1.000000</td>\n",
       "      <td>1.000000</td>\n",
       "      <td>1.000000</td>\n",
       "      <td>1.000000</td>\n",
       "      <td>1.000000</td>\n",
       "      <td>1.000000</td>\n",
       "      <td>1.000000</td>\n",
       "      <td>1.000000</td>\n",
       "    </tr>\n",
       "  </tbody>\n",
       "</table>\n",
       "</div>"
      ],
      "text/plain": [
       "               rent  number of rooms    serviced   furnished  \\\n",
       "count  8.110000e+02       811.000000  811.000000  811.000000   \n",
       "mean   1.088612e+06         2.039457    0.051788    0.018496   \n",
       "std    6.687547e+05         0.903175    0.221735    0.134818   \n",
       "min    8.400000e+04         1.000000    0.000000    0.000000   \n",
       "25%    5.500000e+05         1.000000    0.000000    0.000000   \n",
       "50%    1.000000e+06         2.000000    0.000000    0.000000   \n",
       "75%    1.500000e+06         3.000000    0.000000    0.000000   \n",
       "max    4.000000e+06         5.000000    1.000000    1.000000   \n",
       "\n",
       "       number of bathrooms  number of toilets  city_Gbagada  city_Maryland  \\\n",
       "count           811.000000         811.000000    811.000000     811.000000   \n",
       "mean              1.940814           2.302096      0.200986       0.076449   \n",
       "std               1.027498           1.235777      0.400985       0.265879   \n",
       "min               0.000000           0.000000      0.000000       0.000000   \n",
       "25%               1.000000           1.000000      0.000000       0.000000   \n",
       "50%               2.000000           2.000000      0.000000       0.000000   \n",
       "75%               3.000000           3.000000      0.000000       0.000000   \n",
       "max               5.000000           6.000000      1.000000       1.000000   \n",
       "\n",
       "       city_Surulere   city_Yaba  monthAdded_April  monthAdded_August  \\\n",
       "count     811.000000  811.000000        811.000000         811.000000   \n",
       "mean        0.300863    0.421702          0.003699           0.087546   \n",
       "std         0.458916    0.494136          0.060745           0.282808   \n",
       "min         0.000000    0.000000          0.000000           0.000000   \n",
       "25%         0.000000    0.000000          0.000000           0.000000   \n",
       "50%         0.000000    0.000000          0.000000           0.000000   \n",
       "75%         1.000000    1.000000          0.000000           0.000000   \n",
       "max         1.000000    1.000000          1.000000           1.000000   \n",
       "\n",
       "       monthAdded_December  monthAdded_February  monthAdded_January  \\\n",
       "count            811.00000           811.000000          811.000000   \n",
       "mean               0.10111             0.008631            0.013564   \n",
       "std                0.30166             0.092560            0.115741   \n",
       "min                0.00000             0.000000            0.000000   \n",
       "25%                0.00000             0.000000            0.000000   \n",
       "50%                0.00000             0.000000            0.000000   \n",
       "75%                0.00000             0.000000            0.000000   \n",
       "max                1.00000             1.000000            1.000000   \n",
       "\n",
       "       monthAdded_July  monthAdded_June  monthAdded_March  monthAdded_May  \\\n",
       "count       811.000000       811.000000        811.000000      811.000000   \n",
       "mean          0.064118         0.020962          0.019729        0.012330   \n",
       "std           0.245115         0.143345          0.139152        0.110424   \n",
       "min           0.000000         0.000000          0.000000        0.000000   \n",
       "25%           0.000000         0.000000          0.000000        0.000000   \n",
       "50%           0.000000         0.000000          0.000000        0.000000   \n",
       "75%           0.000000         0.000000          0.000000        0.000000   \n",
       "max           1.000000         1.000000          1.000000        1.000000   \n",
       "\n",
       "       monthAdded_November  monthAdded_October  monthAdded_September  \n",
       "count           811.000000          811.000000            811.000000  \n",
       "mean              0.401973            0.162762              0.103576  \n",
       "std               0.490599            0.369376              0.304898  \n",
       "min               0.000000            0.000000              0.000000  \n",
       "25%               0.000000            0.000000              0.000000  \n",
       "50%               0.000000            0.000000              0.000000  \n",
       "75%               1.000000            0.000000              0.000000  \n",
       "max               1.000000            1.000000              1.000000  "
      ]
     },
     "execution_count": 17,
     "metadata": {},
     "output_type": "execute_result"
    }
   ],
   "source": [
    "df.describe()"
   ]
  },
  {
   "cell_type": "code",
   "execution_count": 18,
   "metadata": {},
   "outputs": [
    {
     "data": {
      "text/plain": [
       "<seaborn.axisgrid.PairGrid at 0x7fc445e44e50>"
      ]
     },
     "execution_count": 18,
     "metadata": {},
     "output_type": "execute_result"
    },
    {
     "data": {
      "image/png": "[encoded data removed]",
      "text/plain": [
       "<Figure size 1080x1080 with 42 Axes>"
      ]
     },
     "metadata": {
      "needs_background": "light"
     },
     "output_type": "display_data"
    }
   ],
   "source": [
    "sns.pairplot(df_o)"
   ]
  },
  {
   "cell_type": "code",
   "execution_count": 19,
   "metadata": {},
   "outputs": [
    {
     "data": {
      "text/plain": [
       "<matplotlib.axes._subplots.AxesSubplot at 0x7fc44610f3d0>"
      ]
     },
     "execution_count": 19,
     "metadata": {},
     "output_type": "execute_result"
    },
    {
     "data": {
      "image/png": "[encoded data removed]",
      "text/plain": [
       "<Figure size 432x288 with 1 Axes>"
      ]
     },
     "metadata": {
      "needs_background": "light"
     },
     "output_type": "display_data"
    }
   ],
   "source": [
    "sns.distplot(df['rent'])"
   ]
  },
  {
   "cell_type": "code",
   "execution_count": 21,
   "metadata": {},
   "outputs": [
    {
     "data": {
      "text/plain": [
       "<matplotlib.axes._subplots.AxesSubplot at 0x7fc44704dd90>"
      ]
     },
     "execution_count": 21,
     "metadata": {},
     "output_type": "execute_result"
    },
    {
     "data": {
      "image/png": "[encoded data removed]",
      "text/plain": [
       "<Figure size 432x288 with 2 Axes>"
      ]
     },
     "metadata": {
      "needs_background": "light"
     },
     "output_type": "display_data"
    }
   ],
   "source": [
    "sns.heatmap(df_o.corr(), annot=True)"
   ]
  },
  {
   "cell_type": "code",
   "execution_count": 24,
   "metadata": {},
   "outputs": [],
   "source": [
    "X = df.drop(columns=['rent'])\n",
    "y = df.rent"
   ]
  },
  {
   "cell_type": "code",
   "execution_count": 25,
   "metadata": {},
   "outputs": [],
   "source": [
    "from sklearn.model_selection import train_test_split\n",
    "\n",
    "X_train, X_test, y_train, y_test = train_test_split(X, y, test_size=0.33, random_state=101)"
   ]
  },
  {
   "cell_type": "code",
   "execution_count": 31,
   "metadata": {},
   "outputs": [],
   "source": [
    "from sklearn import metrics\n",
    "\n",
    "def applyModel(model):\n",
    "    model.fit(X_train, y_train)\n",
    "    predictions = model.predict(X_test)\n",
    "    \n",
    "    # print metrics evaluation\n",
    "    print(\"MAE\", metrics.mean_absolute_error(y_test, predictions))\n",
    "    print(\"MSE\", np.sqrt(metrics.mean_squared_error(y_test, predictions)))\n",
    "    \n",
    "    return predictions"
   ]
  },
  {
   "cell_type": "markdown",
   "metadata": {},
   "source": [
    "#### Linear regression"
   ]
  },
  {
   "cell_type": "code",
   "execution_count": 32,
   "metadata": {},
   "outputs": [
    {
     "name": "stdout",
     "output_type": "stream",
     "text": [
      "MAE 290700.1421657298\n",
      "MSE 379755.4214242452\n"
     ]
    }
   ],
   "source": [
    "from sklearn.linear_model import LinearRegression\n",
    "lm = LinearRegression()\n",
    "\n",
    "lm_preds = applyModel(lm)"
   ]
  },
  {
   "cell_type": "code",
   "execution_count": 34,
   "metadata": {},
   "outputs": [
    {
     "data": {
      "text/plain": [
       "<matplotlib.collections.PathCollection at 0x7fc4496603d0>"
      ]
     },
     "execution_count": 34,
     "metadata": {},
     "output_type": "execute_result"
    },
    {
     "data": {
      "image/png": "[encoded data removed]",
      "text/plain": [
       "<Figure size 432x288 with 1 Axes>"
      ]
     },
     "metadata": {
      "needs_background": "light"
     },
     "output_type": "display_data"
    }
   ],
   "source": [
    "# Plot errors    \n",
    "plt.scatter(y_test, lm_preds)"
   ]
  },
  {
   "cell_type": "code",
   "execution_count": 35,
   "metadata": {},
   "outputs": [
    {
     "data": {
      "text/plain": [
       "<matplotlib.axes._subplots.AxesSubplot at 0x7fc44972ec70>"
      ]
     },
     "execution_count": 35,
     "metadata": {},
     "output_type": "execute_result"
    },
    {
     "data": {
      "image/png": "[encoded data removed]",
      "text/plain": [
       "<Figure size 432x288 with 1 Axes>"
      ]
     },
     "metadata": {
      "needs_background": "light"
     },
     "output_type": "display_data"
    }
   ],
   "source": [
    "sns.distplot((y_test - lm_preds))"
   ]
  },
  {
   "cell_type": "markdown",
   "metadata": {},
   "source": [
    "#### Decision trees"
   ]
  },
  {
   "cell_type": "code",
   "execution_count": 39,
   "metadata": {},
   "outputs": [
    {
     "name": "stdout",
     "output_type": "stream",
     "text": [
      "MAE 296896.0616534475\n",
      "MSE 410025.0625855438\n"
     ]
    }
   ],
   "source": [
    "from sklearn.tree import DecisionTreeRegressor\n",
    "\n",
    "dt = DecisionTreeRegressor(random_state=0)\n",
    "dt_preds = applyModel(dt)"
   ]
  },
  {
   "cell_type": "code",
   "execution_count": 40,
   "metadata": {},
   "outputs": [
    {
     "data": {
      "text/plain": [
       "<matplotlib.collections.PathCollection at 0x7fc449ddc2b0>"
      ]
     },
     "execution_count": 40,
     "metadata": {},
     "output_type": "execute_result"
    },
    {
     "data": {
      "image/png": "[encoded data removed]",
      "text/plain": [
       "<Figure size 432x288 with 1 Axes>"
      ]
     },
     "metadata": {
      "needs_background": "light"
     },
     "output_type": "display_data"
    }
   ],
   "source": [
    "plt.scatter(y_test, dt_preds)"
   ]
  },
  {
   "cell_type": "code",
   "execution_count": 41,
   "metadata": {},
   "outputs": [
    {
     "data": {
      "text/plain": [
       "<matplotlib.axes._subplots.AxesSubplot at 0x7fc449e12970>"
      ]
     },
     "execution_count": 41,
     "metadata": {},
     "output_type": "execute_result"
    },
    {
     "data": {
      "image/png": "[encoded data removed]",
      "text/plain": [
       "<Figure size 432x288 with 1 Axes>"
      ]
     },
     "metadata": {
      "needs_background": "light"
     },
     "output_type": "display_data"
    }
   ],
   "source": [
    "sns.distplot((y_test - dt_preds))"
   ]
  },
  {
   "cell_type": "markdown",
   "metadata": {},
   "source": [
    "#### Random forest"
   ]
  },
  {
   "cell_type": "code",
   "execution_count": 42,
   "metadata": {},
   "outputs": [
    {
     "name": "stdout",
     "output_type": "stream",
     "text": [
      "MAE 275193.99441806023\n",
      "MSE 374868.4444749246\n"
     ]
    }
   ],
   "source": [
    "from sklearn.ensemble import RandomForestRegressor\n",
    "\n",
    "rf = RandomForestRegressor(max_leaf_nodes=50, random_state=0)\n",
    "rf_preds = applyModel(rf)"
   ]
  },
  {
   "cell_type": "code",
   "execution_count": 43,
   "metadata": {},
   "outputs": [
    {
     "data": {
      "text/plain": [
       "<matplotlib.collections.PathCollection at 0x7fc449f70280>"
      ]
     },
     "execution_count": 43,
     "metadata": {},
     "output_type": "execute_result"
    },
    {
     "data": {
      "image/png": "[encoded data removed]",
      "text/plain": [
       "<Figure size 432x288 with 1 Axes>"
      ]
     },
     "metadata": {
      "needs_background": "light"
     },
     "output_type": "display_data"
    }
   ],
   "source": [
    "plt.scatter(y_test, rf_preds)"
   ]
  },
  {
   "cell_type": "code",
   "execution_count": 44,
   "metadata": {},
   "outputs": [
    {
     "data": {
      "text/plain": [
       "<matplotlib.axes._subplots.AxesSubplot at 0x7fc4493e3af0>"
      ]
     },
     "execution_count": 44,
     "metadata": {},
     "output_type": "execute_result"
    },
    {
     "data": {
      "image/png": "[encoded data removed]",
      "text/plain": [
       "<Figure size 432x288 with 1 Axes>"
      ]
     },
     "metadata": {
      "needs_background": "light"
     },
     "output_type": "display_data"
    }
   ],
   "source": [
    "sns.distplot((y_test - rf_preds))"
   ]
  },
  {
   "cell_type": "markdown",
   "metadata": {},
   "source": [
    "## Final thoughts"
   ]
  },
  {
   "cell_type": "markdown",
   "metadata": {},
   "source": [
    "Using random forest gives us the minimum errors compared to LinearRegression and DecisionTrees"
   ]
  },
  {
   "cell_type": "markdown",
   "metadata": {},
   "source": [
    "MAE: NGN 275,194\n",
    "\n",
    "MSE: NGN 374,868"
   ]
  },
  {
   "cell_type": "code",
   "execution_count": null,
   "metadata": {},
   "outputs": [],
   "source": []
  }
 ],
 "metadata": {
  "kernelspec": {
   "display_name": "Python 3",
   "language": "python",
   "name": "python3"
  },
  "language_info": {
   "codemirror_mode": {
    "name": "ipython",
    "version": 3
   },
   "file_extension": ".py",
   "mimetype": "text/x-python",
   "name": "python",
   "nbconvert_exporter": "python",
   "pygments_lexer": "ipython3",
   "version": "3.8.3"
  }
 },
 "nbformat": 4,
 "nbformat_minor": 4
}
