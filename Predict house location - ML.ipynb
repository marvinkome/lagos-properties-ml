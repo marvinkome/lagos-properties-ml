{
 "cells": [
  {
   "cell_type": "code",
   "execution_count": 1,
   "metadata": {},
   "outputs": [],
   "source": [
    "import pandas as pd\n",
    "import seaborn as sns\n",
    "import matplotlib.pyplot as plt\n",
    "import numpy as np\n",
    "import re\n",
    "\n",
    "%matplotlib inline\n",
    "pd.set_option('display.max_rows', None)\n",
    "pd.set_option('display.max_columns', None)\n",
    "pd.set_option('display.width', None)\n",
    "pd.set_option('display.max_colwidth', None)"
   ]
  },
  {
   "cell_type": "code",
   "execution_count": 2,
   "metadata": {},
   "outputs": [],
   "source": [
    "yaba_properties = pd.read_json(\"./data/yaba-properties.json\")\n",
    "surulere_properties = pd.read_json(\"./data/surulere-properties.json\")\n",
    "maryland_properties = pd.read_json(\"./data/maryland-properties.json\")\n",
    "gbagada_properties = pd.read_json(\"./data/gbagada-properties.json\")\n",
    "\n",
    "data = pd.concat([yaba_properties, surulere_properties, maryland_properties, gbagada_properties])"
   ]
  },
  {
   "cell_type": "markdown",
   "metadata": {},
   "source": [
    "## Data cleaning"
   ]
  },
  {
   "cell_type": "code",
   "execution_count": 3,
   "metadata": {},
   "outputs": [],
   "source": [
    "# Get number of rooms\n",
    "def roomCount(type):\n",
    "    if (len(re.findall('\\d+', type)) > 0):\n",
    "        return re.findall('\\d+', type)[0]\n",
    "    elif (re.search(r'(self|flat)', type, flags=re.IGNORECASE)):\n",
    "        return \"1\"\n",
    "\n",
    "data['number of rooms'] = data.type.map(roomCount).astype('int64')"
   ]
  },
  {
   "cell_type": "code",
   "execution_count": 4,
   "metadata": {},
   "outputs": [],
   "source": [
    "# Get city and town\n",
    "def cityAndTown(location):\n",
    "    arr = location.split(', ')\n",
    "    arr.pop()\n",
    "    arr.reverse()\n",
    "    \n",
    "    city = arr[0].strip()\n",
    "    town = arr[1].strip() if len(arr) > 1 else np.nan\n",
    "    \n",
    "    return city, town\n",
    "\n",
    "data['city'] = data.location.map(lambda loc: cityAndTown(loc)[0])\n",
    "data['town'] = data.location.map(lambda loc: cityAndTown(loc)[1])"
   ]
  },
  {
   "cell_type": "code",
   "execution_count": 5,
   "metadata": {},
   "outputs": [],
   "source": [
    "# convert rent to int\n",
    "data['rent'] = data['rent'].map(lambda r: r.replace(',','')).astype('int64')"
   ]
  },
  {
   "cell_type": "code",
   "execution_count": 6,
   "metadata": {},
   "outputs": [],
   "source": [
    "data['id'] = range(0, len(data))\n",
    "data = data.set_index(\"id\")"
   ]
  },
  {
   "cell_type": "code",
   "execution_count": 7,
   "metadata": {},
   "outputs": [],
   "source": [
    "from datetime import datetime, timedelta\n",
    "\n",
    "# extract month added\n",
    "def extractDate(item):\n",
    "    date = item.replace('Added ', '').replace('on ', '').lower()\n",
    "    if date == \"yesterday\":\n",
    "        return (datetime.now() - timedelta(1)).strftime('%Y-%m-%d')\n",
    "    else:\n",
    "        return date\n",
    "\n",
    "data['addedOn'] = data.addedOn.map(lambda x: pd.to_datetime(extractDate(x)))\n",
    "data['monthAdded'] = data.addedOn.map(lambda x: x.month_name())"
   ]
  },
  {
   "cell_type": "code",
   "execution_count": 8,
   "metadata": {},
   "outputs": [],
   "source": [
    "# extract serviced or furnished\n",
    "data['serviced'] = data.shortDesc.map(lambda desc: int(bool(re.search(r'serviced', desc, flags=re.IGNORECASE))))\n",
    "data['furnished'] = data.shortDesc.map(lambda desc: int(bool(re.search(r'furnished', desc, flags=re.IGNORECASE))))"
   ]
  },
  {
   "cell_type": "code",
   "execution_count": 9,
   "metadata": {},
   "outputs": [],
   "source": [
    "# extract number of bathrooms and number of toilets\n",
    "data.metaProps.head()\n",
    "\n",
    "def extractKey(prop, key):\n",
    "    if prop.get(key):\n",
    "        return prop.get(key)\n",
    "    elif prop.get(key + \"s\"):\n",
    "        return prop.get(key + \"s\")\n",
    "    else:\n",
    "        return 0\n",
    "\n",
    "data[\"number of bathrooms\"] = data.metaProps.map(lambda prop: extractKey(prop, \"Bathroom\"))\n",
    "data[\"number of toilets\"] = data.metaProps.map(lambda prop: extractKey(prop, \"Toilet\"))"
   ]
  },
  {
   "cell_type": "code",
   "execution_count": 10,
   "metadata": {},
   "outputs": [],
   "source": [
    "# extract house agent\n",
    "def extractAgent(x): \n",
    "    agent = x.replace('\\n', '').replace('\\xa0', '').strip(' ')\n",
    "    if len(agent) == 0:\n",
    "        return np.nan\n",
    "    else:\n",
    "        return agent\n",
    "\n",
    "data[\"marketedBy\"] = data.marketedBy.map(extractAgent)"
   ]
  },
  {
   "cell_type": "code",
   "execution_count": 11,
   "metadata": {},
   "outputs": [],
   "source": [
    "# remove all investment based houses\n",
    "data.at[412, 'rent'] = 325000\n",
    "\n",
    "data[data['shortDesc'] == \"Sunplanet Smart Landlord Investment\"]\n",
    "data.drop(index=192, inplace=True)\n",
    "\n",
    "data[data['link'] == \"https://nigeriapropertycentre.com/for-rent/flats-apartments/mini-flats/lagos/yaba/onike/549971-newly-built-2bedroom-at-onike\"]\n",
    "data.drop(index=322, inplace=True)\n",
    "\n",
    "data[data['link'] == \"https://nigeriapropertycentre.com/for-rent/flats-apartments/lagos/surulere/779480-luxury-and-executive-3-bedrooms-with-3-tiolets-with-wardrobes\"]\n",
    "data.at[416, 'rent'] = 1000000\n",
    "\n",
    "data[data['link'] == \"https://nigeriapropertycentre.com/for-rent/flats-apartments/self-contained/lagos/gbagada/782003-a-executive-brand-newly-built-ensuite-2-bedrooms-flat\"]\n",
    "data.at[713, 'number of rooms'] = \"2\"\n",
    "\n",
    "data[data[\"link\"] == \"https://nigeriapropertycentre.com/for-rent/flats-apartments/lagos/gbagada/gbagada-phase-1/706117-newly-built-2-bedroom\"]\n",
    "data.at[781, 'number of rooms'] = \"2\"\n",
    "\n",
    "data[data[\"link\"] == \"https://nigeriapropertycentre.com/for-rent/flats-apartments/self-contained/lagos/yaba/onike/798173-newly-built-roomself-for-15-years-lease\"]\n",
    "data.drop(index=9, inplace=True)\n",
    "\n",
    "data[data['rent'] == 40000000]\n",
    "data.drop(index=814, inplace=True)"
   ]
  },
  {
   "cell_type": "code",
   "execution_count": 12,
   "metadata": {},
   "outputs": [
    {
     "name": "stdout",
     "output_type": "stream",
     "text": [
      "<class 'pandas.core.frame.DataFrame'>\n",
      "Int64Index: 811 entries, 0 to 813\n",
      "Data columns (total 16 columns):\n",
      " #   Column               Non-Null Count  Dtype         \n",
      "---  ------               --------------  -----         \n",
      " 0   type                 811 non-null    object        \n",
      " 1   shortDesc            811 non-null    object        \n",
      " 2   link                 811 non-null    object        \n",
      " 3   rent                 811 non-null    int64         \n",
      " 4   addedOn              811 non-null    datetime64[ns]\n",
      " 5   location             811 non-null    object        \n",
      " 6   marketedBy           767 non-null    object        \n",
      " 7   metaProps            811 non-null    object        \n",
      " 8   number of rooms      811 non-null    int64         \n",
      " 9   city                 811 non-null    object        \n",
      " 10  town                 676 non-null    object        \n",
      " 11  monthAdded           811 non-null    object        \n",
      " 12  serviced             811 non-null    int64         \n",
      " 13  furnished            811 non-null    int64         \n",
      " 14  number of bathrooms  811 non-null    int64         \n",
      " 15  number of toilets    811 non-null    int64         \n",
      "dtypes: datetime64[ns](1), int64(6), object(9)\n",
      "memory usage: 107.7+ KB\n"
     ]
    }
   ],
   "source": [
    "data['number of bathrooms'] = pd.to_numeric(data['number of bathrooms'])\n",
    "data['number of toilets'] = pd.to_numeric(data['number of toilets'])\n",
    "\n",
    "data.info()"
   ]
  },
  {
   "cell_type": "code",
   "execution_count": 162,
   "metadata": {},
   "outputs": [],
   "source": [
    "df_o = data[['rent', 'number of rooms', 'city', 'serviced', 'furnished', \n",
    "           'number of bathrooms', 'number of toilets', 'monthAdded']]"
   ]
  },
  {
   "cell_type": "code",
   "execution_count": 163,
   "metadata": {},
   "outputs": [],
   "source": [
    "df = pd.get_dummies(df_o, columns=['monthAdded'], prefix='monthAdded')"
   ]
  },
  {
   "cell_type": "code",
   "execution_count": 164,
   "metadata": {},
   "outputs": [
    {
     "data": {
      "text/plain": [
       "(array([342.,   0.,   0., 244.,   0.,   0.,  62.,   0.,   0., 163.]),\n",
       " array([0. , 0.3, 0.6, 0.9, 1.2, 1.5, 1.8, 2.1, 2.4, 2.7, 3. ]),\n",
       " <a list of 10 Patch objects>)"
      ]
     },
     "execution_count": 164,
     "metadata": {},
     "output_type": "execute_result"
    },
    {
     "data": {
      "image/png": "[encoded data removed]",
      "text/plain": [
       "<Figure size 432x288 with 1 Axes>"
      ]
     },
     "metadata": {
      "needs_background": "light"
     },
     "output_type": "display_data"
    }
   ],
   "source": [
    "plt.hist(df['city'])"
   ]
  },
  {
   "cell_type": "code",
   "execution_count": 165,
   "metadata": {},
   "outputs": [
    {
     "data": {
      "text/plain": [
       "<matplotlib.axes._subplots.AxesSubplot at 0x7f8660d79a60>"
      ]
     },
     "execution_count": 165,
     "metadata": {},
     "output_type": "execute_result"
    },
    {
     "data": {
      "image/png": "[encoded data removed]",
      "text/plain": [
       "<Figure size 432x288 with 1 Axes>"
      ]
     },
     "metadata": {
      "needs_background": "light"
     },
     "output_type": "display_data"
    }
   ],
   "source": [
    "sns.countplot(x='city', hue='number of rooms', data=df_o)"
   ]
  },
  {
   "cell_type": "markdown",
   "metadata": {},
   "source": [
    "This tells us that in mostly single to unit families live in Yaba and Surulere. While in Maryland and Gbagada it's mostly family houses."
   ]
  },
  {
   "cell_type": "code",
   "execution_count": 166,
   "metadata": {},
   "outputs": [
    {
     "name": "stdout",
     "output_type": "stream",
     "text": [
      "<class 'pandas.core.frame.DataFrame'>\n",
      "Int64Index: 811 entries, 0 to 813\n",
      "Data columns (total 19 columns):\n",
      " #   Column                Non-Null Count  Dtype \n",
      "---  ------                --------------  ----- \n",
      " 0   rent                  811 non-null    int64 \n",
      " 1   number of rooms       811 non-null    int64 \n",
      " 2   city                  811 non-null    object\n",
      " 3   serviced              811 non-null    int64 \n",
      " 4   furnished             811 non-null    int64 \n",
      " 5   number of bathrooms   811 non-null    int64 \n",
      " 6   number of toilets     811 non-null    int64 \n",
      " 7   monthAdded_April      811 non-null    uint8 \n",
      " 8   monthAdded_August     811 non-null    uint8 \n",
      " 9   monthAdded_December   811 non-null    uint8 \n",
      " 10  monthAdded_February   811 non-null    uint8 \n",
      " 11  monthAdded_January    811 non-null    uint8 \n",
      " 12  monthAdded_July       811 non-null    uint8 \n",
      " 13  monthAdded_June       811 non-null    uint8 \n",
      " 14  monthAdded_March      811 non-null    uint8 \n",
      " 15  monthAdded_May        811 non-null    uint8 \n",
      " 16  monthAdded_November   811 non-null    uint8 \n",
      " 17  monthAdded_October    811 non-null    uint8 \n",
      " 18  monthAdded_September  811 non-null    uint8 \n",
      "dtypes: int64(6), object(1), uint8(12)\n",
      "memory usage: 100.2+ KB\n"
     ]
    }
   ],
   "source": [
    "df.info()"
   ]
  },
  {
   "cell_type": "markdown",
   "metadata": {},
   "source": [
    "## Apply model"
   ]
  },
  {
   "cell_type": "code",
   "execution_count": 167,
   "metadata": {},
   "outputs": [],
   "source": [
    "X = df.drop(columns=['city'])\n",
    "y = df.city"
   ]
  },
  {
   "cell_type": "code",
   "execution_count": 168,
   "metadata": {},
   "outputs": [],
   "source": [
    "from sklearn.model_selection import train_test_split\n",
    "\n",
    "X_train, X_test, y_train, y_test = train_test_split(X, y, test_size=0.33, random_state=101)"
   ]
  },
  {
   "cell_type": "code",
   "execution_count": 178,
   "metadata": {},
   "outputs": [],
   "source": [
    "from sklearn import metrics\n",
    "\n",
    "def applyModel(model):\n",
    "    model.fit(X_train, y_train)\n",
    "    predictions = model.predict(X_test)\n",
    "    \n",
    "    # print metrics evaluation\n",
    "    print(metrics.classification_report(y_test, predictions))\n",
    "    print(metrics.confusion_matrix(y_test, predictions))\n",
    "    \n",
    "    return predictions"
   ]
  },
  {
   "cell_type": "markdown",
   "metadata": {},
   "source": [
    "### Knn"
   ]
  },
  {
   "cell_type": "code",
   "execution_count": 170,
   "metadata": {},
   "outputs": [],
   "source": [
    "from sklearn.neighbors import KNeighborsClassifier"
   ]
  },
  {
   "cell_type": "code",
   "execution_count": 171,
   "metadata": {},
   "outputs": [
    {
     "name": "stdout",
     "output_type": "stream",
     "text": [
      "0.4024840628988051\n",
      "              precision    recall  f1-score   support\n",
      "\n",
      "     Gbagada       0.32      0.42      0.37        57\n",
      "    Maryland       0.24      0.22      0.23        18\n",
      "    Surulere       0.30      0.36      0.33        69\n",
      "        Yaba       0.56      0.43      0.48       124\n",
      "\n",
      "    accuracy                           0.40       268\n",
      "   macro avg       0.36      0.36      0.35       268\n",
      "weighted avg       0.42      0.40      0.40       268\n",
      "\n",
      "[[24  2 14 17]\n",
      " [ 8  4  2  4]\n",
      " [17  6 25 21]\n",
      " [25  5 41 53]]\n"
     ]
    }
   ],
   "source": [
    "knn = KNeighborsClassifier()\n",
    "knn_preds = applyModel(knn)"
   ]
  },
  {
   "cell_type": "code",
   "execution_count": 172,
   "metadata": {},
   "outputs": [
    {
     "data": {
      "text/plain": [
       "Yaba        124\n",
       "Surulere     69\n",
       "Gbagada      57\n",
       "Maryland     18\n",
       "Name: city, dtype: int64"
      ]
     },
     "execution_count": 172,
     "metadata": {},
     "output_type": "execute_result"
    }
   ],
   "source": [
    "y_test.value_counts()"
   ]
  },
  {
   "cell_type": "markdown",
   "metadata": {},
   "source": [
    "### Random forests"
   ]
  },
  {
   "cell_type": "code",
   "execution_count": 173,
   "metadata": {},
   "outputs": [],
   "source": [
    "from sklearn.ensemble import RandomForestClassifier"
   ]
  },
  {
   "cell_type": "code",
   "execution_count": 181,
   "metadata": {},
   "outputs": [
    {
     "name": "stdout",
     "output_type": "stream",
     "text": [
      "              precision    recall  f1-score   support\n",
      "\n",
      "     Gbagada       0.41      0.37      0.39        57\n",
      "    Maryland       0.27      0.22      0.24        18\n",
      "    Surulere       0.36      0.49      0.41        69\n",
      "        Yaba       0.64      0.55      0.59       124\n",
      "\n",
      "    accuracy                           0.47       268\n",
      "   macro avg       0.42      0.41      0.41       268\n",
      "weighted avg       0.49      0.47      0.48       268\n",
      "\n",
      "[[21  2 21 13]\n",
      " [ 5  4  4  5]\n",
      " [10  4 34 21]\n",
      " [15  5 36 68]]\n"
     ]
    }
   ],
   "source": [
    "rf = RandomForestClassifier()\n",
    "rf_preds = applyModel(rf)"
   ]
  },
  {
   "cell_type": "code",
   "execution_count": null,
   "metadata": {},
   "outputs": [],
   "source": []
  }
 ],
 "metadata": {
  "kernelspec": {
   "display_name": "Python 3",
   "language": "python",
   "name": "python3"
  },
  "language_info": {
   "codemirror_mode": {
    "name": "ipython",
    "version": 3
   },
   "file_extension": ".py",
   "mimetype": "text/x-python",
   "name": "python",
   "nbconvert_exporter": "python",
   "pygments_lexer": "ipython3",
   "version": "3.8.3"
  }
 },
 "nbformat": 4,
 "nbformat_minor": 4
}
